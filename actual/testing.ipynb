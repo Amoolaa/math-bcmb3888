{
 "cells": [
  {
   "cell_type": "markdown",
   "metadata": {},
   "source": [
    "# Testing\n",
    "\n",
    "Testing a few ideas:\n",
    "1. Should we remove essential nodes from the graph and then do analysis or do our analysis and remove essential nodes from consideration?\n",
    "2. Looking for 'intermediate nodes'"
   ]
  },
  {
   "cell_type": "code",
   "execution_count": 1,
   "metadata": {},
   "outputs": [],
   "source": [
    "import networkx as nx\n",
    "import numpy as np\n",
    "import scipy as sp\n",
    "import pandas as pd"
   ]
  },
  {
   "cell_type": "code",
   "execution_count": 2,
   "metadata": {},
   "outputs": [],
   "source": [
    "# Reading in graph \n",
    "G = nx.read_weighted_edgelist(\"yeast.txt\",comments=\"#\",nodetype=str)"
   ]
  },
  {
   "cell_type": "code",
   "execution_count": 3,
   "metadata": {},
   "outputs": [],
   "source": [
    "# Deleting edges that don't meet threshold score\n",
    "threshold_score = 700\n",
    "for edge in G.edges: \n",
    "  weight = list(G.get_edge_data(edge[0],edge[1]).values())\n",
    "  if(weight[0] <= threshold_score):\n",
    "    G.remove_edge(edge[0],edge[1])\n",
    "\n",
    "G = nx.relabel_nodes(G, lambda x: x[5:])"
   ]
  },
  {
   "cell_type": "code",
   "execution_count": 5,
   "metadata": {},
   "outputs": [],
   "source": [
    "# Removing essential nodes\n",
    "df = pd.read_csv(\"essential_proteins.csv\", header=None)\n",
    "essential_proteins = df[1].values\n",
    "\n",
    "G_essential = G.copy()\n",
    "\n",
    "for protein in essential_proteins:\n",
    "  str = protein\n",
    "  if str in G_essential.nodes:\n",
    "    G_essential.remove_node(str)"
   ]
  },
  {
   "cell_type": "code",
   "execution_count": 19,
   "metadata": {},
   "outputs": [
    {
     "name": "stdout",
     "output_type": "stream",
     "text": [
      "Graph with 6394 nodes and 120009 edges\n",
      "Graph with 5098 nodes and 53343 edges\n",
      "1\n",
      "0\n"
     ]
    }
   ],
   "source": [
    "print(G)\n",
    "print(G_essential)"
   ]
  },
  {
   "cell_type": "markdown",
   "metadata": {},
   "source": [
    "### Discussion Point #1\n",
    "\n",
    "Closeness centrality is defined as average length of the shortest path between a node $i$ and all other nodes in the graph. Since there is a  correlation between essential nodes and their degree/betweenness centrality, many shortest paths will likely go through these essential nodes (this can be supported). Suppose node $i$ is not an essential node and has many connections to essential nodes, but node $j$ has relatively fewer. This means that removing essential nodes has a disproportionate effect on the closeness centrality of node $i$ compared to node $j$."
   ]
  },
  {
   "cell_type": "code",
   "execution_count": 12,
   "metadata": {},
   "outputs": [],
   "source": [
    "cc = nx.algorithms.closeness_centrality(G).items()\n",
    "\n",
    "cc_essential = nx.algorithms.closeness_centrality(G_essential).items()"
   ]
  },
  {
   "cell_type": "markdown",
   "metadata": {},
   "source": [
    "Printing the highest centrality nodes for each graph."
   ]
  },
  {
   "cell_type": "code",
   "execution_count": 16,
   "metadata": {},
   "outputs": [
    {
     "name": "stdout",
     "output_type": "stream",
     "text": [
      "0 ('YMR186W', 0.35197256714557457) ('YEL021W', 0.31352308998607314)\n",
      "1 ('YEL021W', 0.3504481970694075) ('YMR186W', 0.3115557592132387)\n",
      "2 ('YMR116C', 0.3443942631399366) ('YLL013C', 0.3100451303484081)\n",
      "3 ('YLL013C', 0.3408950586820375) ('YMR116C', 0.3051138168234912)\n",
      "4 ('YPR080W', 0.33785994978427897) ('YPR080W', 0.3045413706380813)\n",
      "5 ('YML063W', 0.33516398502690914) ('YLR178C', 0.30370857184099964)\n",
      "6 ('YBR010W', 0.33516398502690914) ('YLL026W', 0.3032067184641519)\n",
      "7 ('YLR441C', 0.33449161958582174) ('YBR010W', 0.30216469637735593)\n",
      "8 ('YLL039C', 0.3333567879672099) ('YLL039C', 0.3021430637387264)\n",
      "9 ('YGR192C', 0.332892924084141) ('YGR192C', 0.3016248080547835)\n",
      "10 ('YJR066W', 0.3323500327486571) ('YGR088W', 0.30048660123193527)\n",
      "11 ('YKL009W', 0.33144913813545973) ('YEL009C', 0.3003369139127904)\n",
      "12 ('YFR031C-A', 0.33065243327845484) ('YKR094C', 0.2983411787291482)\n",
      "13 ('YIL018W', 0.3305134035431744) ('YJR066W', 0.29783587256898597)\n",
      "14 ('YKL081W', 0.3300574136036691) ('YBR251W', 0.2976888138747641)\n",
      "15 ('YKR094C', 0.3300178217589376) ('YLR441C', 0.2974580148225635)\n",
      "16 ('YBL099W', 0.32974094457881986) ('YIL148W', 0.2974160898028563)\n",
      "17 ('YDR101C', 0.32932649881414694) ('YMR250W', 0.29731132893994583)\n",
      "18 ('YJR113C', 0.3292476748555988) ('YMR105C', 0.29662175388688017)\n",
      "19 ('YEL009C', 0.32883446735114846) ('YML063W', 0.29601839898313326)\n"
     ]
    }
   ],
   "source": [
    "cc = sorted(list(cc), key = lambda x: x[1], reverse=True)\n",
    "cc_essential = sorted(list(cc_essential), key = lambda x: x[1], reverse=True)\n",
    "\n",
    "# Removing essential nodes from consideration from centrality measure\n",
    "cc = [(node, val) for node, val in cc if node not in essential_proteins]\n",
    "\n",
    "for i in range(0, 20):\n",
    "  print(i, cc[i], cc_essential[i])"
   ]
  },
  {
   "cell_type": "code",
   "execution_count": 14,
   "metadata": {},
   "outputs": [],
   "source": [
    "# Finding non-essential proteins with highest proportional connection to essential proteins\n",
    "d = {}\n",
    "\n",
    "for i in G.nodes:\n",
    "  if i not in essential_proteins and G.degree(i) != 0:\n",
    "    num_essential_neighbours = 0\n",
    "    for j in G[i]:\n",
    "      if j in essential_proteins:\n",
    "        num_essential_neighbours += 1\n",
    "    \n",
    "    d[i] = num_essential_neighbours/G.degree(i)\n",
    "\n",
    "d_list = sorted(list(d.items()), key = lambda x: x[1], reverse=True)"
   ]
  },
  {
   "cell_type": "code",
   "execution_count": 21,
   "metadata": {},
   "outputs": [
    {
     "name": "stdout",
     "output_type": "stream",
     "text": [
      "('YEL052W', 1.0) [('YEL052W', 1)] [('YEL052W', 0)]\n",
      "('YJR127C', 1.0) [('YJR127C', 1)] [('YJR127C', 0)]\n",
      "('YDR338C', 1.0) [('YDR338C', 1)] [('YDR338C', 0)]\n",
      "('YOR113W', 1.0) [('YOR113W', 1)] [('YOR113W', 0)]\n",
      "('YJL103C', 1.0) [('YJL103C', 1)] [('YJL103C', 0)]\n",
      "('YGR109W-B', 1.0) [('YGR109W-B', 3)] [('YGR109W-B', 0)]\n",
      "('YOL045W', 1.0) [('YOL045W', 4)] [('YOL045W', 0)]\n",
      "('YKR061W', 1.0) [('YKR061W', 1)] [('YKR061W', 0)]\n",
      "('YMR291W', 1.0) [('YMR291W', 2)] [('YMR291W', 0)]\n",
      "('YKR051W', 1.0) [('YKR051W', 1)] [('YKR051W', 0)]\n",
      "('YOR320C', 1.0) [('YOR320C', 2)] [('YOR320C', 0)]\n",
      "('YKL051W', 1.0) [('YKL051W', 4)] [('YKL051W', 0)]\n",
      "('YLR302C', 1.0) [('YLR302C', 1)] [('YLR302C', 0)]\n",
      "('YIL055C', 1.0) [('YIL055C', 1)] [('YIL055C', 0)]\n",
      "('YLR146W-A', 1.0) [('YLR146W-A', 1)] [('YLR146W-A', 0)]\n",
      "('YBL009W', 1.0) [('YBL009W', 1)] [('YBL009W', 0)]\n",
      "('YDR528W', 1.0) [('YDR528W', 1)] [('YDR528W', 0)]\n",
      "('YBL025W', 1.0) [('YBL025W', 8)] [('YBL025W', 0)]\n",
      "('YOR183W', 1.0) [('YOR183W', 1)] [('YOR183W', 0)]\n",
      "('YDR524W-C', 1.0) [('YDR524W-C', 3)] [('YDR524W-C', 0)]\n",
      "('YOR137C', 1.0) [('YOR137C', 1)] [('YOR137C', 0)]\n",
      "('YNL275W', 1.0) [('YNL275W', 1)] [('YNL275W', 0)]\n",
      "('YPL197C', 1.0) [('YPL197C', 2)] [('YPL197C', 0)]\n",
      "('YBR242W', 1.0) [('YBR242W', 1)] [('YBR242W', 0)]\n",
      "('YEL025C', 1.0) [('YEL025C', 1)] [('YEL025C', 0)]\n",
      "('YGL164C', 1.0) [('YGL164C', 3)] [('YGL164C', 0)]\n",
      "('YOR379C', 1.0) [('YOR379C', 1)] [('YOR379C', 0)]\n",
      "('YCR108C', 1.0) [('YCR108C', 1)] [('YCR108C', 0)]\n",
      "('YHR093W', 1.0) [('YHR093W', 1)] [('YHR093W', 0)]\n",
      "('YGR039W', 1.0) [('YGR039W', 1)] [('YGR039W', 0)]\n",
      "('YPR123C', 1.0) [('YPR123C', 1)] [('YPR123C', 0)]\n",
      "('YOR179C', 0.9583333333333334) [('YOR179C', 24)] [('YOR179C', 1)]\n",
      "('YGL060W', 0.8333333333333334) [('YGL060W', 6)] [('YGL060W', 1)]\n",
      "('YPL119C', 0.8260869565217391) [('YPL119C', 23)] [('YPL119C', 4)]\n",
      "('YDL115C', 0.8235294117647058) [('YDL115C', 17)] [('YDL115C', 3)]\n",
      "('YJR063W', 0.8230088495575221) [('YJR063W', 113)] [('YJR063W', 20)]\n",
      "('YGR223C', 0.8125) [('YGR223C', 16)] [('YGR223C', 3)]\n",
      "('YGR006W', 0.8095238095238095) [('YGR006W', 63)] [('YGR006W', 12)]\n",
      "('YNL286W', 0.8048780487804879) [('YNL286W', 41)] [('YNL286W', 8)]\n",
      "('YHR034C', 0.8043478260869565) [('YHR034C', 46)] [('YHR034C', 9)]\n",
      "('YNL155W', 0.8) [('YNL155W', 5)] [('YNL155W', 1)]\n",
      "('YIR009W', 0.8) [('YIR009W', 85)] [('YIR009W', 17)]\n",
      "('YBR085C-A', 0.8) [('YBR085C-A', 5)] [('YBR085C-A', 1)]\n",
      "('YER184C', 0.8) [('YER184C', 5)] [('YER184C', 1)]\n",
      "('YOR352W', 0.8) [('YOR352W', 15)] [('YOR352W', 3)]\n",
      "('YDR312W', 0.7927927927927928) [('YDR312W', 111)] [('YDR312W', 23)]\n",
      "('YKL160W', 0.7894736842105263) [('YKL160W', 19)] [('YKL160W', 4)]\n",
      "('YDR156W', 0.7894736842105263) [('YDR156W', 19)] [('YDR156W', 4)]\n",
      "('YKR024C', 0.775) [('YKR024C', 160)] [('YKR024C', 36)]\n",
      "('YGR129W', 0.7727272727272727) [('YGR129W', 66)] [('YGR129W', 15)]\n"
     ]
    }
   ],
   "source": [
    "for i in range(0, 50):\n",
    "  print(d_list[i], G.degree(d_list[i]), G_essential.degree(d_list[i]))"
   ]
  },
  {
   "cell_type": "code",
   "execution_count": 10,
   "metadata": {},
   "outputs": [
    {
     "name": "stdout",
     "output_type": "stream",
     "text": [
      "0.23232507778191047\n",
      "0.0\n"
     ]
    }
   ],
   "source": [
    "print(nx.algorithms.closeness_centrality(G, u = 'YEL052W'))\n",
    "print(nx.algorithms.closeness_centrality(G_essential, u = 'YEL052W'))"
   ]
  },
  {
   "cell_type": "markdown",
   "metadata": {},
   "source": [
    "So, it becomes clear that a non-essential node such as \"YEL052W\", whose neighbours are all essential nodes, has a zero closeness centrality if we consider the graph with essential nodes removed, but otherwise is a fairly central node in the network.\n",
    "\n",
    "This problem is not unique to closeness centrality - the node \"YEL052W\" becomes isolated when all essential proteins are removed, so it has a zero centrality."
   ]
  },
  {
   "cell_type": "markdown",
   "metadata": {},
   "source": [
    "### Discussion Point #2\n",
    "We will check if there are isolated nodes in the NAFLD network. If there are, we see how many and look for 'intermediate nodes' (that are obviously not NAFLD nodes) to link them.\n",
    "\n",
    "See:\n",
    "\n",
    "- https://cs.stackexchange.com/questions/93047/minimal-number-of-nodes-needed-to-connect-a-disconnected-graph\n",
    "- node-weighted steiner problem\n",
    "- connected vertex cover\n",
    "- steiner tree (using networkx) but with edge weights of 1."
   ]
  },
  {
   "cell_type": "code",
   "execution_count": 13,
   "metadata": {},
   "outputs": [],
   "source": [
    "# Getting list of all yeast homologs\n",
    "df = pd.read_csv(\"human_to_yeast.csv\")\n",
    "\n",
    "# Note: some homologs in this list may also be present in the essential nodes list, so they wont be included in the subgraph.\n",
    "homologs = list(set(list(df[\"homolog_systematic_name\"])))"
   ]
  },
  {
   "cell_type": "code",
   "execution_count": 14,
   "metadata": {},
   "outputs": [],
   "source": [
    "# Getting subgraph induced by all yeast homologs\n",
    "NAFLD = G.subgraph(homologs).copy()"
   ]
  },
  {
   "cell_type": "code",
   "execution_count": 15,
   "metadata": {},
   "outputs": [
    {
     "name": "stdout",
     "output_type": "stream",
     "text": [
      "['YPR058W', 'YBL057C', 'YDR371W', 'YML125C', 'YCR026C', 'YHR032W', 'YLR001C', 'YJR100C', 'YBR104W', 'YMR222C', 'YGL096W', 'YDR105C', 'YLL048C', 'YOL119C', 'YJL079C', 'YBR233W', 'YGR065C', 'YPL088W', 'YER159C', 'YBR046C', 'YDR151C', 'YHR078W', 'YOR093C', 'YKR013W', 'YAL067C', 'YKL198C', 'YOR256C', 'YDL219W', 'YDR236C', 'YDR221W', 'YPR131C', 'YBR210W', 'YJR126C', 'YCR075C', 'YLL055W', 'YDR372C', 'YMR212C', 'YML087C', 'YLL061W', 'YLR004C', 'YGL159W', 'YCR028C-A', 'YER140W', 'YOR280C', 'YDR338C', 'YEL016C', 'YJR085C', 'YCR028C', 'YJR001W']\n"
     ]
    }
   ],
   "source": [
    "print(list(nx.isolates(NAFLD)))"
   ]
  },
  {
   "cell_type": "code",
   "execution_count": 16,
   "metadata": {},
   "outputs": [],
   "source": [
    "# Create separate graph where all edge weights are 1\n",
    "H = G.copy()\n",
    "for (u, v, d) in H.edges().data():\n",
    "  d['weight'] = 1"
   ]
  },
  {
   "cell_type": "code",
   "execution_count": 17,
   "metadata": {},
   "outputs": [],
   "source": [
    "for node in homologs:\n",
    "  if node not in nx.isolates(NAFLD) and node in H.nodes():\n",
    "    H.remove_node(node)\n",
    "\n",
    "GC = H.subgraph(max(nx.connected_components(H), key=len)).copy()"
   ]
  },
  {
   "cell_type": "code",
   "execution_count": 18,
   "metadata": {},
   "outputs": [
    {
     "name": "stdout",
     "output_type": "stream",
     "text": [
      "Graph with 5093 nodes and 81420 edges\n"
     ]
    }
   ],
   "source": [
    "print(GC)"
   ]
  },
  {
   "cell_type": "code",
   "execution_count": 19,
   "metadata": {},
   "outputs": [
    {
     "name": "stdout",
     "output_type": "stream",
     "text": [
      "46\n",
      "['YPR058W', 'YBL057C', 'YDR371W', 'YML125C', 'YCR026C', 'YLR001C', 'YJR100C', 'YBR104W', 'YGL096W', 'YDR105C', 'YLL048C', 'YOL119C', 'YJL079C', 'YBR233W', 'YGR065C', 'YPL088W', 'YER159C', 'YBR046C', 'YDR151C', 'YHR078W', 'YOR093C', 'YKR013W', 'YAL067C', 'YKL198C', 'YOR256C', 'YDL219W', 'YDR236C', 'YDR221W', 'YPR131C', 'YBR210W', 'YJR126C', 'YCR075C', 'YLL055W', 'YDR372C', 'YMR212C', 'YML087C', 'YLL061W', 'YLR004C', 'YGL159W', 'YCR028C-A', 'YER140W', 'YOR280C', 'YDR338C', 'YJR085C', 'YCR028C', 'YJR001W']\n",
      "Graph with 5093 nodes and 81420 edges\n"
     ]
    }
   ],
   "source": [
    "isolated = []\n",
    "\n",
    "for node in list(nx.isolates(NAFLD)):\n",
    "  if node in GC.nodes():\n",
    "    isolated.append(node)\n",
    "\n",
    "print(len(isolated))\n",
    "print(isolated)\n",
    "print(GC)"
   ]
  },
  {
   "cell_type": "code",
   "execution_count": 20,
   "metadata": {},
   "outputs": [],
   "source": [
    "T = isolated\n",
    "\n",
    "# Parameters\n",
    "name = \"Yeast PPIN with non-isolated nodes associated with NAFLD removed\"\n",
    "creator = \"A. Habibi\"\n",
    "\n",
    "f = open(\"NAFLD_graph.stp\", \"w\")\n",
    "\n",
    "# Header\n",
    "f.write(\"33D32945 STP File, STP Format Version 1.0\\n\\n\")\n",
    "\n",
    "# Comments\n",
    "f.write(\"SECTION Comment\\n\")\n",
    "f.write(f\"Name\\t\\\"{name}\\\"\\n\")\n",
    "f.write(f\"Creator\\t\\\"{creator}\\\"\\n\")\n",
    "f.write(\"END\\n\\n\")\n",
    "\n",
    "# Graph\n",
    "f.write(\"SECTION Graph\\n\")\n",
    "n = GC.number_of_nodes()\n",
    "m = GC.number_of_edges()\n",
    "f.write(f\"Nodes {n}\\n\")\n",
    "f.write(f\"Edges {m}\\n\")\n",
    "\n",
    "# STP requires nodes to be represented by positive integers. So, we use index + 1 of nodes in node list of G.\n",
    "node_key = {}\n",
    "for index, node in enumerate(GC.nodes()):\n",
    "  node_key[node] = index + 1\n",
    "\n",
    "for (u, v, d) in GC.edges().data():\n",
    "  f.write(f\"E {node_key[u]} {node_key[v]} {int(d['weight'])}\\n\")\n",
    "f.write(\"END\\n\\n\")\n",
    "\n",
    "# Terminals\n",
    "f.write(\"SECTION Terminals\\n\")\n",
    "f.write(f\"Terminals {len(T)}\\n\")\n",
    "for t in T:\n",
    "  f.write(f\"T {node_key[t]}\\n\")\n",
    "f.write(\"END\\n\\n\")\n",
    "\n",
    "f.write(\"EOF\")\n",
    "\n",
    "f.close()"
   ]
  },
  {
   "cell_type": "markdown",
   "metadata": {},
   "source": [
    "Running SCIP-Jack..."
   ]
  },
  {
   "cell_type": "code",
   "execution_count": 21,
   "metadata": {},
   "outputs": [
    {
     "name": "stdout",
     "output_type": "stream",
     "text": [
      "Graph with 100 nodes and 0 edges\n",
      "Graph with 100 nodes and 99 edges\n"
     ]
    }
   ],
   "source": [
    "# Creating spanning tree\n",
    "ST = nx.Graph()\n",
    "\n",
    "f = open(\"NAFLD_graph.stplog\")\n",
    "\n",
    "l = f.readlines()\n",
    "\n",
    "# Moving to final solution section\n",
    "i = l.index(\"SECTION Finalsolution\\n\")\n",
    "\n",
    "# Finding number of vertices\n",
    "n = int(l[i + 1].split(\" \")[1])\n",
    "\n",
    "# Moving pointer down to start of vertices\n",
    "i += 2\n",
    "nodes = list(GC.nodes())\n",
    "\n",
    "for j in range(0, n):\n",
    "  node = int(l[i + j].split(\" \")[1])\n",
    "  ST.add_node(nodes[node - 1])\n",
    "\n",
    "print(ST)\n",
    "\n",
    "# Since this is a tree, there will be n - 1 edges\n",
    "\n",
    "i += 101\n",
    "for j in range(0, n-1):\n",
    "  u, v = int(l[i + j].split(\" \")[1]), int(l[i + j].split(\" \")[2])\n",
    "  ST.add_edge(nodes[u - 1], nodes[v - 1], weight = 1)\n",
    "\n",
    "print(ST)\n",
    "\n",
    "f.close()"
   ]
  },
  {
   "cell_type": "code",
   "execution_count": 22,
   "metadata": {},
   "outputs": [
    {
     "data": {
      "image/png": "[encoded data removed]",
      "text/plain": [
       "<Figure size 640x480 with 1 Axes>"
      ]
     },
     "metadata": {},
     "output_type": "display_data"
    }
   ],
   "source": [
    "nx.draw(ST)"
   ]
  },
  {
   "cell_type": "code",
   "execution_count": 24,
   "metadata": {},
   "outputs": [
    {
     "name": "stdout",
     "output_type": "stream",
     "text": [
      "['YAL001C', 'YAL042W', 'YAL054C', 'YBL080C', 'YBL099W', 'YCL001W', 'YCR093W', 'YDL202W', 'YDR324C', 'YEL051W', 'YER073W', 'YER148W', 'YGL098W', 'YGL101W', 'YGL144C', 'YGR244C', 'YGR286C', 'YIL145C', 'YJL046W', 'YJL154C', 'YJR124C', 'YKL069W', 'YKL081W', 'YKL176C', 'YKL192C', 'YKL212W', 'YKR007W', 'YKR009C', 'YKR088C', 'YLL057C', 'YLL059C', 'YLL060C', 'YLL062C', 'YLR208W', 'YLR307W', 'YML080W', 'YML082W', 'YMR049C', 'YMR055C', 'YMR225C', 'YMR269W', 'YNL111C', 'YNL113W', 'YOL018C', 'YOL092W', 'YOL118C', 'YOR196C', 'YOR253W', 'YPL101W', 'YPL145C', 'YPL169C', 'YPR079W', 'YPR128C', 'YPR163C']\n"
     ]
    }
   ],
   "source": [
    "non_NAFLD = []\n",
    "for node in ST.nodes():\n",
    "  if node not in homologs:\n",
    "    non_NAFLD.append(node)\n",
    "\n",
    "print(sorted(non_NAFLD))"
   ]
  }
 ],
 "metadata": {
  "kernelspec": {
   "display_name": "Python 3.9.12 ('base')",
   "language": "python",
   "name": "python3"
  },
  "language_info": {
   "codemirror_mode": {
    "name": "ipython",
    "version": 3
   },
   "file_extension": ".py",
   "mimetype": "text/x-python",
   "name": "python",
   "nbconvert_exporter": "python",
   "pygments_lexer": "ipython3",
   "version": "3.9.12"
  },
  "orig_nbformat": 4,
  "vscode": {
   "interpreter": {
    "hash": "604b94c5f01275e050c2c00b5ea4e6efa3f121665dac1e4e1c804cbe8201972f"
   }
  }
 },
 "nbformat": 4,
 "nbformat_minor": 2
}
