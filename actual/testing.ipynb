{
 "cells": [
  {
   "cell_type": "markdown",
   "metadata": {},
   "source": [
    "# Testing\n",
    "\n",
    "Testing a few ideas:\n",
    "1. Should we remove essential nodes from the graph and then do analysis or do our analysis and remove essential nodes from consideration?\n",
    "2. Looking for 'intermediate nodes'"
   ]
  },
  {
   "cell_type": "code",
   "execution_count": 1,
   "metadata": {},
   "outputs": [],
   "source": [
    "import networkx as nx\n",
    "import numpy as np\n",
    "import scipy as sp\n",
    "import pandas as pd"
   ]
  },
  {
   "cell_type": "code",
   "execution_count": 2,
   "metadata": {},
   "outputs": [],
   "source": [
    "# Reading in graph \n",
    "G = nx.read_weighted_edgelist(\"yeast.txt\",comments=\"#\",nodetype=str)"
   ]
  },
  {
   "cell_type": "code",
   "execution_count": 3,
   "metadata": {},
   "outputs": [],
   "source": [
    "# Deleting edges that don't meet threshold score\n",
    "threshold_score = 700\n",
    "for edge in G.edges: \n",
    "  weight = list(G.get_edge_data(edge[0],edge[1]).values())\n",
    "  if(weight[0] <= threshold_score):\n",
    "    G.remove_edge(edge[0],edge[1])\n",
    "\n",
    "G = nx.relabel_nodes(G, lambda x: x[5:])"
   ]
  },
  {
   "cell_type": "code",
   "execution_count": 12,
   "metadata": {},
   "outputs": [],
   "source": [
    "# Removing essential nodes\n",
    "df = pd.read_csv(\"essential_proteins.csv\", header=None)\n",
    "essential_proteins = df[1].values\n",
    "\n",
    "G_essential = G.copy()\n",
    "\n",
    "for protein in essential_proteins:\n",
    "  str = protein\n",
    "  if str in G_essential.nodes:\n",
    "    G_essential.remove_node(str)"
   ]
  },
  {
   "cell_type": "markdown",
   "metadata": {},
   "source": [
    "### Discussion Point #1\n",
    "\n",
    "Closeness centrality is defined as average length of the shortest path between a node $i$ and all other nodes in the graph. Since there is a  correlation between essential nodes and their degree/betweenness centrality, many shortest paths will likely go through these essential nodes (this can be supported). Suppose node $i$ is not an essential node and has many connections to essential nodes, but node $j$ has relatively fewer. This means that removing essential nodes has a disproportionate effect on the closeness centrality of node $i$ compared to node $j$."
   ]
  },
  {
   "cell_type": "code",
   "execution_count": 18,
   "metadata": {},
   "outputs": [],
   "source": [
    "cc = nx.algorithms.closeness_centrality(G).items()\n",
    "\n",
    "cc_essential = nx.algorithms.closeness_centrality(G_essential).items()"
   ]
  },
  {
   "cell_type": "code",
   "execution_count": 28,
   "metadata": {},
   "outputs": [
    {
     "name": "stdout",
     "output_type": "stream",
     "text": [
      "0 YMR186W YEL021W\n",
      "1 YEL021W YMR186W\n",
      "2 YMR116C YLL013C\n",
      "3 YLL013C YMR116C\n",
      "4 YPR080W YPR080W\n",
      "5 YML063W YLR178C\n",
      "6 YBR010W YLL026W\n",
      "7 YLR441C YBR010W\n",
      "8 YLL039C YLL039C\n",
      "9 YGR192C YGR192C\n",
      "10 YJR066W YGR088W\n",
      "11 YKL009W YEL009C\n",
      "12 YFR031C-A YKR094C\n",
      "13 YIL018W YJR066W\n",
      "14 YKL081W YBR251W\n",
      "15 YKR094C YLR441C\n",
      "16 YBL099W YIL148W\n",
      "17 YDR101C YMR250W\n",
      "18 YJR113C YMR105C\n",
      "19 YEL009C YML063W\n"
     ]
    }
   ],
   "source": [
    "cc = sorted(list(cc), key = lambda x: x[1], reverse=True)\n",
    "cc_essential = sorted(list(cc_essential), key = lambda x: x[1], reverse=True)\n",
    "\n",
    "# Removing essential nodes from consideration from centrality measure\n",
    "cc = [(node, val) for node, val in cc if node not in essential_proteins]\n",
    "\n",
    "for i in range(0, 20):\n",
    "  print(i, cc[i][0], cc_essential[i][0])"
   ]
  },
  {
   "cell_type": "code",
   "execution_count": 30,
   "metadata": {},
   "outputs": [],
   "source": [
    "# Finding non-essential proteins with highest proportional connection to essential proteins\n",
    "d = {}\n",
    "\n",
    "for i in G.nodes:\n",
    "  if i not in essential_proteins and G.degree(i) != 0:\n",
    "    num_essential_neighbours = 0\n",
    "    for j in G[i]:\n",
    "      if j in essential_proteins:\n",
    "        num_essential_neighbours += 1\n",
    "    \n",
    "    d[i] = num_essential_neighbours/G.degree(i)\n",
    "\n",
    "d_list = sorted(list(d.items()), key = lambda x: x[1], reverse=True)"
   ]
  },
  {
   "cell_type": "code",
   "execution_count": 32,
   "metadata": {},
   "outputs": [
    {
     "name": "stdout",
     "output_type": "stream",
     "text": [
      "[('YEL052W', 1.0), ('YJR127C', 1.0), ('YDR338C', 1.0), ('YOR113W', 1.0), ('YJL103C', 1.0), ('YGR109W-B', 1.0), ('YOL045W', 1.0), ('YKR061W', 1.0), ('YMR291W', 1.0), ('YKR051W', 1.0), ('YOR320C', 1.0), ('YKL051W', 1.0), ('YLR302C', 1.0), ('YIL055C', 1.0), ('YLR146W-A', 1.0), ('YBL009W', 1.0), ('YDR528W', 1.0), ('YBL025W', 1.0), ('YOR183W', 1.0), ('YDR524W-C', 1.0)]\n"
     ]
    }
   ],
   "source": [
    "print(d_list[:20])"
   ]
  },
  {
   "cell_type": "code",
   "execution_count": 35,
   "metadata": {},
   "outputs": [
    {
     "name": "stdout",
     "output_type": "stream",
     "text": [
      "0.23232507778191047\n",
      "0.0\n"
     ]
    }
   ],
   "source": [
    "print(nx.algorithms.closeness_centrality(G, u = 'YEL052W'))\n",
    "print(nx.algorithms.closeness_centrality(G_essential, u = 'YEL052W'))"
   ]
  },
  {
   "cell_type": "markdown",
   "metadata": {},
   "source": [
    "So, it becomes clear that a non-essential node such as \"YEL052W\", whose neighbours are all essential nodes, has a zero closeness centrality if we consider the graph with essential nodes removed, but otherwise is a fairly central node in the network.\n",
    "\n",
    "This problem is not unique to closeness centrality - the node \"YEL052W\" becomes isolated when all essential proteins are removed, so it has a zero centrality."
   ]
  },
  {
   "cell_type": "markdown",
   "metadata": {},
   "source": [
    "### Discussion Point #2\n",
    "We will check if there are isolated nodes in the NAFLD network. If there are, we see how many and look for 'intermediate nodes' (that are obviously not NAFLD nodes) to link them.\n",
    "\n",
    "See:\n",
    "\n",
    "- https://cs.stackexchange.com/questions/93047/minimal-number-of-nodes-needed-to-connect-a-disconnected-graph\n",
    "- node-weighted steiner problem\n",
    "- connected vertex cover\n",
    "- steiner tree (using networkx) but with edge weights of 1."
   ]
  },
  {
   "cell_type": "code",
   "execution_count": 4,
   "metadata": {},
   "outputs": [],
   "source": [
    "# Getting list of all yeast homologs\n",
    "df = pd.read_csv(\"human_to_yeast.csv\")\n",
    "\n",
    "# Note: some homologs in this list may also be present in the essential nodes list, so they wont be included in the subgraph.\n",
    "homologs = list(set(list(df[\"homolog_systematic_name\"])))"
   ]
  },
  {
   "cell_type": "code",
   "execution_count": 5,
   "metadata": {},
   "outputs": [],
   "source": [
    "# Getting subgraph induced by all yeast homologs\n",
    "NAFLD = G.subgraph(homologs).copy()"
   ]
  },
  {
   "cell_type": "code",
   "execution_count": 7,
   "metadata": {},
   "outputs": [
    {
     "name": "stdout",
     "output_type": "stream",
     "text": [
      "['YDL219W', 'YML087C', 'YMR212C', 'YMR222C', 'YLL061W', 'YCR026C', 'YCR028C-A', 'YLR001C', 'YLL055W', 'YDR236C', 'YBR046C', 'YEL016C', 'YCR028C', 'YML125C', 'YBL057C', 'YAL067C', 'YKR013W', 'YOL119C', 'YER159C', 'YBR233W', 'YDR105C', 'YGR065C', 'YPR131C', 'YHR078W', 'YHR032W', 'YDR371W', 'YLR004C', 'YJL079C', 'YDR221W', 'YJR001W', 'YCR075C', 'YOR093C', 'YER140W', 'YPR058W', 'YJR085C', 'YOR280C', 'YOR256C', 'YBR210W', 'YBR104W', 'YLL048C', 'YPL088W', 'YJR100C', 'YKL198C', 'YDR151C', 'YDR338C', 'YGL159W', 'YJR126C', 'YGL096W', 'YDR372C']\n"
     ]
    }
   ],
   "source": [
    "print(list(nx.isolates(NAFLD)))"
   ]
  },
  {
   "cell_type": "code",
   "execution_count": 6,
   "metadata": {},
   "outputs": [],
   "source": [
    "# Create separate graph where all edge weights are 1\n",
    "H = G.copy()\n",
    "for (u, v, d) in H.edges().data():\n",
    "  d['weight'] = 1"
   ]
  },
  {
   "cell_type": "code",
   "execution_count": 8,
   "metadata": {},
   "outputs": [],
   "source": [
    "for node in homologs:\n",
    "  if node not in nx.isolates(NAFLD) and node in H.nodes():\n",
    "    H.remove_node(node)\n",
    "\n",
    "GC = H.subgraph(max(nx.connected_components(H), key=len)).copy()"
   ]
  },
  {
   "cell_type": "code",
   "execution_count": 11,
   "metadata": {},
   "outputs": [
    {
     "name": "stdout",
     "output_type": "stream",
     "text": [
      "Graph with 5093 nodes and 81420 edges\n"
     ]
    }
   ],
   "source": [
    "print(GC)"
   ]
  },
  {
   "cell_type": "code",
   "execution_count": 12,
   "metadata": {},
   "outputs": [
    {
     "name": "stdout",
     "output_type": "stream",
     "text": [
      "46\n",
      "['YDL219W', 'YML087C', 'YMR212C', 'YLL061W', 'YCR026C', 'YCR028C-A', 'YLR001C', 'YLL055W', 'YDR236C', 'YBR046C', 'YCR028C', 'YML125C', 'YBL057C', 'YAL067C', 'YKR013W', 'YOL119C', 'YER159C', 'YBR233W', 'YDR105C', 'YGR065C', 'YPR131C', 'YHR078W', 'YDR371W', 'YLR004C', 'YJL079C', 'YDR221W', 'YJR001W', 'YCR075C', 'YOR093C', 'YER140W', 'YPR058W', 'YJR085C', 'YOR280C', 'YOR256C', 'YBR210W', 'YBR104W', 'YLL048C', 'YPL088W', 'YJR100C', 'YKL198C', 'YDR151C', 'YDR338C', 'YGL159W', 'YJR126C', 'YGL096W', 'YDR372C']\n",
      "Graph with 5093 nodes and 81420 edges\n"
     ]
    }
   ],
   "source": [
    "isolated = []\n",
    "\n",
    "for node in list(nx.isolates(NAFLD)):\n",
    "  if node in GC.nodes():\n",
    "    isolated.append(node)\n",
    "\n",
    "print(len(isolated))\n",
    "print(isolated)\n",
    "print(GC)"
   ]
  },
  {
   "cell_type": "code",
   "execution_count": 14,
   "metadata": {},
   "outputs": [],
   "source": [
    "T = isolated\n",
    "\n",
    "# Parameters\n",
    "name = \"Yeast PPIN with non-isolated nodes associated with NAFLD removed\"\n",
    "creator = \"A. Habibi\"\n",
    "\n",
    "f = open(\"NAFLD_graph.stp\", \"w\")\n",
    "\n",
    "# Header\n",
    "f.write(\"33D32945 STP File, STP Format Version 1.0\\n\\n\")\n",
    "\n",
    "# Comments\n",
    "f.write(\"SECTION Comment\\n\")\n",
    "f.write(f\"Name\\t\\\"{name}\\\"\\n\")\n",
    "f.write(f\"Creator\\t\\\"{creator}\\\"\\n\")\n",
    "f.write(\"END\\n\\n\")\n",
    "\n",
    "# Graph\n",
    "f.write(\"SECTION Graph\\n\")\n",
    "n = GC.number_of_nodes()\n",
    "m = GC.number_of_edges()\n",
    "f.write(f\"Nodes {n}\\n\")\n",
    "f.write(f\"Edges {m}\\n\")\n",
    "\n",
    "# STP requires nodes to be represented by positive integers. So, we use index + 1 of nodes in node list of G.\n",
    "node_key = {}\n",
    "for index, node in enumerate(GC.nodes()):\n",
    "  node_key[node] = index + 1\n",
    "\n",
    "for (u, v, d) in GC.edges().data():\n",
    "  f.write(f\"E {node_key[u]} {node_key[v]} {int(d['weight'])}\\n\")\n",
    "f.write(\"END\\n\\n\")\n",
    "\n",
    "# Terminals\n",
    "f.write(\"SECTION Terminals\\n\")\n",
    "f.write(f\"Terminals {len(T)}\\n\")\n",
    "for t in T:\n",
    "  f.write(f\"T {node_key[t]}\\n\")\n",
    "f.write(\"END\\n\\n\")\n",
    "\n",
    "f.write(\"EOF\")\n",
    "\n",
    "f.close()"
   ]
  },
  {
   "cell_type": "markdown",
   "metadata": {},
   "source": [
    "Running SCIP-Jack..."
   ]
  },
  {
   "cell_type": "code",
   "execution_count": 33,
   "metadata": {},
   "outputs": [
    {
     "name": "stdout",
     "output_type": "stream",
     "text": [
      "Graph with 100 nodes and 0 edges\n",
      "Graph with 100 nodes and 99 edges\n"
     ]
    }
   ],
   "source": [
    "# Creating spanning tree\n",
    "ST = nx.Graph()\n",
    "\n",
    "f = open(\"NAFLD_graph.stplog\")\n",
    "\n",
    "l = f.readlines()\n",
    "\n",
    "# Moving to final solution section\n",
    "i = l.index(\"SECTION Finalsolution\\n\")\n",
    "\n",
    "# Finding number of vertices\n",
    "n = int(l[i + 1].split(\" \")[1])\n",
    "\n",
    "# Moving pointer down to start of vertices\n",
    "i += 2\n",
    "nodes = list(GC.nodes())\n",
    "\n",
    "for j in range(0, n):\n",
    "  node = int(l[i + j].split(\" \")[1])\n",
    "  ST.add_node(nodes[node - 1])\n",
    "\n",
    "print(ST)\n",
    "\n",
    "# Since this is a tree, there will be n - 1 edges\n",
    "\n",
    "i += 101\n",
    "for j in range(0, n-1):\n",
    "  u, v = int(l[i + j].split(\" \")[1]), int(l[i + j].split(\" \")[2])\n",
    "  ST.add_edge(nodes[u - 1], nodes[v - 1], weight = 1)\n",
    "\n",
    "print(ST)\n",
    "\n",
    "f.close()"
   ]
  },
  {
   "cell_type": "code",
   "execution_count": 34,
   "metadata": {},
   "outputs": [
    {
     "data": {
      "image/png": "[encoded data removed]",
      "text/plain": [
       "<Figure size 640x480 with 1 Axes>"
      ]
     },
     "metadata": {},
     "output_type": "display_data"
    }
   ],
   "source": [
    "nx.draw(ST)"
   ]
  }
 ],
 "metadata": {
  "kernelspec": {
   "display_name": "Python 3.9.12 ('base')",
   "language": "python",
   "name": "python3"
  },
  "language_info": {
   "codemirror_mode": {
    "name": "ipython",
    "version": 3
   },
   "file_extension": ".py",
   "mimetype": "text/x-python",
   "name": "python",
   "nbconvert_exporter": "python",
   "pygments_lexer": "ipython3",
   "version": "3.9.12"
  },
  "orig_nbformat": 4,
  "vscode": {
   "interpreter": {
    "hash": "604b94c5f01275e050c2c00b5ea4e6efa3f121665dac1e4e1c804cbe8201972f"
   }
  }
 },
 "nbformat": 4,
 "nbformat_minor": 2
}
