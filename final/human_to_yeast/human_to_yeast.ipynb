{
 "cells": [
  {
   "cell_type": "markdown",
   "metadata": {},
   "source": [
    "## human_to_yeast\n",
    "\n",
    "Converts list of human proteins associated with NAFLD to their yeast homologs through the YeastMine API. "
   ]
  },
  {
   "cell_type": "code",
   "execution_count": 1,
   "metadata": {},
   "outputs": [],
   "source": [
    "import pandas as pd\n",
    "import numpy as np"
   ]
  },
  {
   "cell_type": "markdown",
   "metadata": {},
   "source": [
    "Creating file (human.txt) with all human genes separated with comma"
   ]
  },
  {
   "cell_type": "code",
   "execution_count": 2,
   "metadata": {},
   "outputs": [],
   "source": [
    "df = pd.read_csv(\"human.csv\")\n",
    "first_column = df[df.columns[0]].to_numpy()\n",
    "s = \", \".join(np.unique(first_column))\n",
    "f = open(\"human.txt\", \"w\")\n",
    "f.write(s)\n",
    "f.close()"
   ]
  },
  {
   "cell_type": "markdown",
   "metadata": {},
   "source": [
    "Using yeastmine API to fetch all yeast homologs"
   ]
  },
  {
   "cell_type": "code",
   "execution_count": 3,
   "metadata": {},
   "outputs": [],
   "source": [
    "from intermine.webservice import Service\n",
    "service = Service(\"https://yeastmine.yeastgenome.org/yeastmine/service\")\n",
    "template = service.get_template('HumanGene_YeastHomolog_Disease')"
   ]
  },
  {
   "cell_type": "code",
   "execution_count": 5,
   "metadata": {},
   "outputs": [],
   "source": [
    "rows = template.rows(\n",
    "  C = {\"op\": \"LOOKUP\", \"value\": s, \"extra_value\": \"\"}\n",
    ")\n",
    "\n",
    "colnames = [\"gene_standard_name\", \n",
    "            \"gene_name\", \n",
    "            \"gene_primary_dbid\", \n",
    "            \"cross_ref_id\", \n",
    "            \"homolog_standard_name\", \n",
    "            \"homolog_systematic_name\",\n",
    "            \"homolog_name\", \n",
    "            \"disease_identifier\",\n",
    "            \"disease_name\", \n",
    "            \"data_source\", \n",
    "            \"homolog_algorithm\", \n",
    "            \"homolog_algorithm_matches\", \n",
    "            \"homolog_algorithm_attempts\"]"
   ]
  },
  {
   "cell_type": "markdown",
   "metadata": {},
   "source": [
    "Saving yeast homologs in CSV file for later use"
   ]
  },
  {
   "cell_type": "code",
   "execution_count": 7,
   "metadata": {},
   "outputs": [],
   "source": [
    "df = pd.DataFrame(rows)\n",
    "df.columns = colnames\n",
    "df.to_csv(\"../data/human_to_yeast.csv\", index=False)"
   ]
  }
 ],
 "metadata": {
  "kernelspec": {
   "display_name": "Python 3.9.12 ('base')",
   "language": "python",
   "name": "python3"
  },
  "language_info": {
   "codemirror_mode": {
    "name": "ipython",
    "version": 3
   },
   "file_extension": ".py",
   "mimetype": "text/x-python",
   "name": "python",
   "nbconvert_exporter": "python",
   "pygments_lexer": "ipython3",
   "version": "3.9.12"
  },
  "orig_nbformat": 4,
  "vscode": {
   "interpreter": {
    "hash": "604b94c5f01275e050c2c00b5ea4e6efa3f121665dac1e4e1c804cbe8201972f"
   }
  }
 },
 "nbformat": 4,
 "nbformat_minor": 2
}
